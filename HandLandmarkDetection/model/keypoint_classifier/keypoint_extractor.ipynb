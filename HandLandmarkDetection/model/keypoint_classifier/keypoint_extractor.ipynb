{
 "cells": [
  {
   "cell_type": "code",
   "execution_count": 77,
   "metadata": {},
   "outputs": [],
   "source": [
    "import numpy as np \n",
    "import cv2\n",
    "import mediapipe as mp\n",
    "import matplotlib.pyplot as plt\n",
    "import copy\n",
    "import itertools\n",
    "import os\n",
    "import csv"
   ]
  },
  {
   "cell_type": "code",
   "execution_count": 78,
   "metadata": {},
   "outputs": [
    {
     "name": "stderr",
     "output_type": "stream",
     "text": [
      "I0000 00:00:1724308775.064007 8173610 gl_context.cc:357] GL version: 2.1 (2.1 Metal - 88.1), renderer: Apple M1 Pro\n"
     ]
    }
   ],
   "source": [
    "# Hand detection model initialization\n",
    "mp_hands = mp.solutions.hands\n",
    "\n",
    "hands = mp_hands.Hands(\n",
    "    max_num_hands = 2,\n",
    "    min_detection_confidence = 0.7,\n",
    "    min_tracking_confidence = 0.5,\n",
    ")"
   ]
  },
  {
   "cell_type": "code",
   "execution_count": 79,
   "metadata": {},
   "outputs": [
    {
     "name": "stderr",
     "output_type": "stream",
     "text": [
      "W0000 00:00:1724308775.074505 8225779 inference_feedback_manager.cc:114] Feedback manager requires a model with a single signature inference. Disabling support for feedback tensors.\n",
      "W0000 00:00:1724308775.082400 8225778 inference_feedback_manager.cc:114] Feedback manager requires a model with a single signature inference. Disabling support for feedback tensors.\n"
     ]
    },
    {
     "name": "stdout",
     "output_type": "stream",
     "text": [
      "78000\n"
     ]
    }
   ],
   "source": [
    "img_path = \"/Users/Atharv/All scripts/SmartMAte/ASL Translation/model/keypoint_classifier/ASL_Dataset/asl_alphabet_train/asl_alphabet_train/\"\n",
    "data = []\n",
    "for i in range(65,91):\n",
    "    for j in range(1,3001):\n",
    "        final_path = img_path + chr(i) + \"/\" + chr(i) + str(j) + \".jpg\"\n",
    "        image = cv2.imread(final_path)\n",
    "        data.append(image)       \n",
    "\n",
    "print(len(data))"
   ]
  },
  {
   "cell_type": "code",
   "execution_count": 80,
   "metadata": {},
   "outputs": [],
   "source": [
    "def calc_landmark_points(image, landmarks):\n",
    "    image_width, image_height = image.shape[1], image.shape[0]\n",
    "\n",
    "    landmark_points = []\n",
    "\n",
    "    for _, landmark in enumerate(landmarks.landmark):\n",
    "        landmark_x = min(int(landmark.x * image_width), image_width - 1)\n",
    "        landmark_y = min(int(landmark.y * image_height), image_height - 1)\n",
    "\n",
    "        landmark_points.append([landmark_x, landmark_y])\n",
    "    \n",
    "    return landmark_points"
   ]
  },
  {
   "cell_type": "code",
   "execution_count": 81,
   "metadata": {},
   "outputs": [],
   "source": [
    "def preprocess_keypoints(landmarks):\n",
    "    temp_landmark_list = copy.deepcopy(landmarks)\n",
    "\n",
    "    # Converting into local coordinates\n",
    "    x, y = 0,0\n",
    "    for index, landmark_point in enumerate(landmarks):\n",
    "        if index == 0:\n",
    "            x,y = landmark_point[0],landmark_point[1]\n",
    "        \n",
    "        temp_landmark_list[index][0] = temp_landmark_list[index][0] - x\n",
    "        temp_landmark_list[index][1] = temp_landmark_list[index][1] - y\n",
    "\n",
    "    # Converting into 1D  list\n",
    "    temp_landmark_list = list(itertools.chain.from_iterable(temp_landmark_list))\n",
    "\n",
    "    # Finding the max value for normalization \n",
    "    maximum = max(list(map(abs, temp_landmark_list)))\n",
    "    def normalization(n):\n",
    "        return n/maximum\n",
    "    temp_landmark_list = list(map(normalization, temp_landmark_list))\n",
    "    \n",
    "    return temp_landmark_list"
   ]
  },
  {
   "cell_type": "code",
   "execution_count": 82,
   "metadata": {},
   "outputs": [],
   "source": [
    "def csv_logger(num, pre_processed_keypoints):\n",
    "    \n",
    "    csv_path = \"/Users/Atharv/All scripts/SmartMAte/ASL Translation/model/keypoint_classifier/keypoints.csv\"\n",
    "    with open(csv_path, 'rb+') as f:\n",
    "        f.seek(-1, os.SEEK_END)\n",
    "        last_char = f.read(1)\n",
    "        if last_char != b'\\n':\n",
    "            f.write(b'\\n')\n",
    "    with open(csv_path, 'a', newline = \"\") as f:\n",
    "        writer = csv.writer(f)\n",
    "        writer.writerow([num, *pre_processed_keypoints])\n",
    "    return"
   ]
  },
  {
   "cell_type": "code",
   "execution_count": 107,
   "metadata": {},
   "outputs": [
    {
     "name": "stdout",
     "output_type": "stream",
     "text": [
      "10\n",
      "entered\n"
     ]
    },
    {
     "name": "stderr",
     "output_type": "stream",
     "text": [
      "/Library/Frameworks/Python.framework/Versions/3.12/lib/python3.12/site-packages/google/protobuf/symbol_database.py:55: UserWarning: SymbolDatabase.GetPrototype() is deprecated. Please use message_factory.GetMessageClass() instead. SymbolDatabase.GetPrototype() will be removed soon.\n",
      "  warnings.warn('SymbolDatabase.GetPrototype() is deprecated. Please '\n"
     ]
    },
    {
     "name": "stdout",
     "output_type": "stream",
     "text": [
      "11\n",
      "12\n",
      "13\n",
      "14\n",
      "15\n",
      "16\n",
      "17\n",
      "18\n",
      "19\n",
      "20\n",
      "21\n",
      "22\n",
      "23\n",
      "24\n",
      "25\n",
      "26\n",
      "27\n",
      "28\n",
      "29\n",
      "30\n",
      "31\n",
      "32\n",
      "33\n",
      "34\n",
      "35\n"
     ]
    }
   ],
   "source": [
    "csv_path = \"/Users/Atharv/All scripts/SmartMAte/ASL Translation/model/keypoint_classifier/keypoints.csv\"\n",
    "pointer = 0\n",
    "num = 9\n",
    "while pointer < len(data):\n",
    "    temp = pointer / 3000\n",
    "    if temp.is_integer():\n",
    "        num += 1\n",
    "        print(num)\n",
    "    if pointer == 0:\n",
    "        print(\"entered\")\n",
    "        pointer += 1\n",
    "    image = data[pointer]\n",
    "    results = hands.process(image)\n",
    "    if results.multi_hand_landmarks:\n",
    "        # Extracting hand landmarks\n",
    "        hand_landmarks = results.multi_hand_landmarks\n",
    "        # Calculating landmark points\n",
    "        landmark_points = calc_landmark_points(image, hand_landmarks[0])\n",
    "        # Localizing landmark_points\n",
    "        pre_processed_keypoints = preprocess_keypoints(landmark_points)\n",
    "        # Writing it to csv file \n",
    "        csv_logger(num, pre_processed_keypoints)\n",
    "    pointer += 1"
   ]
  },
  {
   "cell_type": "code",
   "execution_count": null,
   "metadata": {},
   "outputs": [],
   "source": []
  }
 ],
 "metadata": {
  "kernelspec": {
   "display_name": "Python 3",
   "language": "python",
   "name": "python3"
  },
  "language_info": {
   "codemirror_mode": {
    "name": "ipython",
    "version": 3
   },
   "file_extension": ".py",
   "mimetype": "text/x-python",
   "name": "python",
   "nbconvert_exporter": "python",
   "pygments_lexer": "ipython3",
   "version": "3.12.2"
  }
 },
 "nbformat": 4,
 "nbformat_minor": 2
}
