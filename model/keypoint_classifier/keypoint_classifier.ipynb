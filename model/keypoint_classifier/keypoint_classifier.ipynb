{
 "cells": [
  {
   "cell_type": "code",
   "execution_count": 1,
   "metadata": {},
   "outputs": [],
   "source": [
    "import pandas as pd\n",
    "import numpy as np\n",
    "import tensorflow as tf\n",
    "from sklearn.model_selection import train_test_split\n",
    "\n",
    "#Constants\n",
    "RANDOM_SEED = 42"
   ]
  },
  {
   "cell_type": "code",
   "execution_count": 2,
   "metadata": {},
   "outputs": [
    {
     "data": {
      "text/html": [
       "<div>\n",
       "<style scoped>\n",
       "    .dataframe tbody tr th:only-of-type {\n",
       "        vertical-align: middle;\n",
       "    }\n",
       "\n",
       "    .dataframe tbody tr th {\n",
       "        vertical-align: top;\n",
       "    }\n",
       "\n",
       "    .dataframe thead th {\n",
       "        text-align: right;\n",
       "    }\n",
       "</style>\n",
       "<table border=\"1\" class=\"dataframe\">\n",
       "  <thead>\n",
       "    <tr style=\"text-align: right;\">\n",
       "      <th></th>\n",
       "      <th>Label</th>\n",
       "      <th>Point0</th>\n",
       "      <th>Point1</th>\n",
       "      <th>Point2</th>\n",
       "      <th>Point3</th>\n",
       "      <th>Point4</th>\n",
       "      <th>Point5</th>\n",
       "      <th>Point6</th>\n",
       "      <th>Point7</th>\n",
       "      <th>Point8</th>\n",
       "      <th>...</th>\n",
       "      <th>Point32</th>\n",
       "      <th>Point33</th>\n",
       "      <th>Point34</th>\n",
       "      <th>Point35</th>\n",
       "      <th>Point36</th>\n",
       "      <th>Point37</th>\n",
       "      <th>Point38</th>\n",
       "      <th>Point39</th>\n",
       "      <th>Point40</th>\n",
       "      <th>Point41</th>\n",
       "    </tr>\n",
       "  </thead>\n",
       "  <tbody>\n",
       "    <tr>\n",
       "      <th>0</th>\n",
       "      <td>1</td>\n",
       "      <td>0</td>\n",
       "      <td>0</td>\n",
       "      <td>-0.160326</td>\n",
       "      <td>-0.095109</td>\n",
       "      <td>-0.296196</td>\n",
       "      <td>-0.247283</td>\n",
       "      <td>-0.399457</td>\n",
       "      <td>-0.364130</td>\n",
       "      <td>-0.508152</td>\n",
       "      <td>...</td>\n",
       "      <td>0.179348</td>\n",
       "      <td>-0.913043</td>\n",
       "      <td>0.209239</td>\n",
       "      <td>-0.404891</td>\n",
       "      <td>0.252717</td>\n",
       "      <td>-0.543478</td>\n",
       "      <td>0.282609</td>\n",
       "      <td>-0.633152</td>\n",
       "      <td>0.309783</td>\n",
       "      <td>-0.725543</td>\n",
       "    </tr>\n",
       "    <tr>\n",
       "      <th>1</th>\n",
       "      <td>1</td>\n",
       "      <td>0</td>\n",
       "      <td>0</td>\n",
       "      <td>-0.163043</td>\n",
       "      <td>-0.092391</td>\n",
       "      <td>-0.296196</td>\n",
       "      <td>-0.244565</td>\n",
       "      <td>-0.394022</td>\n",
       "      <td>-0.366848</td>\n",
       "      <td>-0.505435</td>\n",
       "      <td>...</td>\n",
       "      <td>0.179348</td>\n",
       "      <td>-0.913043</td>\n",
       "      <td>0.206522</td>\n",
       "      <td>-0.402174</td>\n",
       "      <td>0.250000</td>\n",
       "      <td>-0.538043</td>\n",
       "      <td>0.279891</td>\n",
       "      <td>-0.630435</td>\n",
       "      <td>0.304348</td>\n",
       "      <td>-0.720109</td>\n",
       "    </tr>\n",
       "    <tr>\n",
       "      <th>2</th>\n",
       "      <td>1</td>\n",
       "      <td>0</td>\n",
       "      <td>0</td>\n",
       "      <td>-0.163934</td>\n",
       "      <td>-0.090164</td>\n",
       "      <td>-0.292350</td>\n",
       "      <td>-0.240437</td>\n",
       "      <td>-0.387978</td>\n",
       "      <td>-0.366120</td>\n",
       "      <td>-0.502732</td>\n",
       "      <td>...</td>\n",
       "      <td>0.180328</td>\n",
       "      <td>-0.912568</td>\n",
       "      <td>0.204918</td>\n",
       "      <td>-0.401639</td>\n",
       "      <td>0.251366</td>\n",
       "      <td>-0.540984</td>\n",
       "      <td>0.278689</td>\n",
       "      <td>-0.631148</td>\n",
       "      <td>0.306011</td>\n",
       "      <td>-0.721311</td>\n",
       "    </tr>\n",
       "    <tr>\n",
       "      <th>3</th>\n",
       "      <td>1</td>\n",
       "      <td>0</td>\n",
       "      <td>0</td>\n",
       "      <td>-0.163488</td>\n",
       "      <td>-0.089918</td>\n",
       "      <td>-0.288828</td>\n",
       "      <td>-0.242507</td>\n",
       "      <td>-0.381471</td>\n",
       "      <td>-0.370572</td>\n",
       "      <td>-0.493188</td>\n",
       "      <td>...</td>\n",
       "      <td>0.182561</td>\n",
       "      <td>-0.912807</td>\n",
       "      <td>0.201635</td>\n",
       "      <td>-0.403270</td>\n",
       "      <td>0.247956</td>\n",
       "      <td>-0.539510</td>\n",
       "      <td>0.277929</td>\n",
       "      <td>-0.626703</td>\n",
       "      <td>0.305177</td>\n",
       "      <td>-0.716621</td>\n",
       "    </tr>\n",
       "    <tr>\n",
       "      <th>4</th>\n",
       "      <td>1</td>\n",
       "      <td>0</td>\n",
       "      <td>0</td>\n",
       "      <td>-0.161644</td>\n",
       "      <td>-0.090411</td>\n",
       "      <td>-0.293151</td>\n",
       "      <td>-0.243836</td>\n",
       "      <td>-0.380822</td>\n",
       "      <td>-0.375342</td>\n",
       "      <td>-0.490411</td>\n",
       "      <td>...</td>\n",
       "      <td>0.178082</td>\n",
       "      <td>-0.917808</td>\n",
       "      <td>0.200000</td>\n",
       "      <td>-0.405479</td>\n",
       "      <td>0.241096</td>\n",
       "      <td>-0.539726</td>\n",
       "      <td>0.271233</td>\n",
       "      <td>-0.627397</td>\n",
       "      <td>0.301370</td>\n",
       "      <td>-0.717808</td>\n",
       "    </tr>\n",
       "  </tbody>\n",
       "</table>\n",
       "<p>5 rows × 43 columns</p>\n",
       "</div>"
      ],
      "text/plain": [
       "   Label  Point0  Point1    Point2    Point3    Point4    Point5    Point6  \\\n",
       "0      1       0       0 -0.160326 -0.095109 -0.296196 -0.247283 -0.399457   \n",
       "1      1       0       0 -0.163043 -0.092391 -0.296196 -0.244565 -0.394022   \n",
       "2      1       0       0 -0.163934 -0.090164 -0.292350 -0.240437 -0.387978   \n",
       "3      1       0       0 -0.163488 -0.089918 -0.288828 -0.242507 -0.381471   \n",
       "4      1       0       0 -0.161644 -0.090411 -0.293151 -0.243836 -0.380822   \n",
       "\n",
       "     Point7    Point8  ...   Point32   Point33   Point34   Point35   Point36  \\\n",
       "0 -0.364130 -0.508152  ...  0.179348 -0.913043  0.209239 -0.404891  0.252717   \n",
       "1 -0.366848 -0.505435  ...  0.179348 -0.913043  0.206522 -0.402174  0.250000   \n",
       "2 -0.366120 -0.502732  ...  0.180328 -0.912568  0.204918 -0.401639  0.251366   \n",
       "3 -0.370572 -0.493188  ...  0.182561 -0.912807  0.201635 -0.403270  0.247956   \n",
       "4 -0.375342 -0.490411  ...  0.178082 -0.917808  0.200000 -0.405479  0.241096   \n",
       "\n",
       "    Point37   Point38   Point39   Point40   Point41  \n",
       "0 -0.543478  0.282609 -0.633152  0.309783 -0.725543  \n",
       "1 -0.538043  0.279891 -0.630435  0.304348 -0.720109  \n",
       "2 -0.540984  0.278689 -0.631148  0.306011 -0.721311  \n",
       "3 -0.539510  0.277929 -0.626703  0.305177 -0.716621  \n",
       "4 -0.539726  0.271233 -0.627397  0.301370 -0.717808  \n",
       "\n",
       "[5 rows x 43 columns]"
      ]
     },
     "execution_count": 2,
     "metadata": {},
     "output_type": "execute_result"
    }
   ],
   "source": [
    "# Reading the data\n",
    "data = pd.read_csv(\"/Users/Atharv/All scripts/SmartMAte/ASL Translation/model/keypoint_classifier/keypoints.csv\")\n",
    "data.head()"
   ]
  },
  {
   "cell_type": "code",
   "execution_count": 3,
   "metadata": {},
   "outputs": [
    {
     "name": "stdout",
     "output_type": "stream",
     "text": [
      "x_data shape:  (132, 42)\n"
     ]
    }
   ],
   "source": [
    "# Data PreProcessing\n",
    "y_data = data[\"Label\"]\n",
    "\n",
    "x_data = data.drop(columns = [\"Label\"])\n",
    "temp = x_data.to_numpy()\n",
    "\n",
    "print(\"x_data shape: \",x_data.shape)\n"
   ]
  },
  {
   "cell_type": "code",
   "execution_count": 4,
   "metadata": {},
   "outputs": [],
   "source": [
    "# Splitting the dataset into train and test set\n",
    "X_train, X_test, y_train, y_test = train_test_split(x_data, y_data, train_size=0.8, random_state=RANDOM_SEED)\n",
    "# Total number of Classes\n",
    "NUM_CLASSES = 2"
   ]
  },
  {
   "cell_type": "code",
   "execution_count": 5,
   "metadata": {},
   "outputs": [],
   "source": [
    "# Model for classification \n",
    "model = tf.keras.models.Sequential([\n",
    "    tf.keras.layers.Input((21*2,)),\n",
    "    tf.keras.layers.Dropout(0.2),\n",
    "    tf.keras.layers.Dense(20, activation = \"relu\"),\n",
    "    tf.keras.layers.Dropout(0.4),\n",
    "    tf.keras.layers.Dense(10, activation = \"relu\"),\n",
    "    tf.keras.layers.Dense(NUM_CLASSES, activation = \"softmax\")\n",
    "])"
   ]
  },
  {
   "cell_type": "code",
   "execution_count": 6,
   "metadata": {},
   "outputs": [
    {
     "data": {
      "text/html": [
       "<pre style=\"white-space:pre;overflow-x:auto;line-height:normal;font-family:Menlo,'DejaVu Sans Mono',consolas,'Courier New',monospace\"><span style=\"font-weight: bold\">Model: \"sequential\"</span>\n",
       "</pre>\n"
      ],
      "text/plain": [
       "\u001b[1mModel: \"sequential\"\u001b[0m\n"
      ]
     },
     "metadata": {},
     "output_type": "display_data"
    },
    {
     "data": {
      "text/html": [
       "<pre style=\"white-space:pre;overflow-x:auto;line-height:normal;font-family:Menlo,'DejaVu Sans Mono',consolas,'Courier New',monospace\">┏━━━━━━━━━━━━━━━━━━━━━━━━━━━━━━━━━┳━━━━━━━━━━━━━━━━━━━━━━━━┳━━━━━━━━━━━━━━━┓\n",
       "┃<span style=\"font-weight: bold\"> Layer (type)                    </span>┃<span style=\"font-weight: bold\"> Output Shape           </span>┃<span style=\"font-weight: bold\">       Param # </span>┃\n",
       "┡━━━━━━━━━━━━━━━━━━━━━━━━━━━━━━━━━╇━━━━━━━━━━━━━━━━━━━━━━━━╇━━━━━━━━━━━━━━━┩\n",
       "│ dropout (<span style=\"color: #0087ff; text-decoration-color: #0087ff\">Dropout</span>)               │ (<span style=\"color: #00d7ff; text-decoration-color: #00d7ff\">None</span>, <span style=\"color: #00af00; text-decoration-color: #00af00\">42</span>)             │             <span style=\"color: #00af00; text-decoration-color: #00af00\">0</span> │\n",
       "├─────────────────────────────────┼────────────────────────┼───────────────┤\n",
       "│ dense (<span style=\"color: #0087ff; text-decoration-color: #0087ff\">Dense</span>)                   │ (<span style=\"color: #00d7ff; text-decoration-color: #00d7ff\">None</span>, <span style=\"color: #00af00; text-decoration-color: #00af00\">20</span>)             │           <span style=\"color: #00af00; text-decoration-color: #00af00\">860</span> │\n",
       "├─────────────────────────────────┼────────────────────────┼───────────────┤\n",
       "│ dropout_1 (<span style=\"color: #0087ff; text-decoration-color: #0087ff\">Dropout</span>)             │ (<span style=\"color: #00d7ff; text-decoration-color: #00d7ff\">None</span>, <span style=\"color: #00af00; text-decoration-color: #00af00\">20</span>)             │             <span style=\"color: #00af00; text-decoration-color: #00af00\">0</span> │\n",
       "├─────────────────────────────────┼────────────────────────┼───────────────┤\n",
       "│ dense_1 (<span style=\"color: #0087ff; text-decoration-color: #0087ff\">Dense</span>)                 │ (<span style=\"color: #00d7ff; text-decoration-color: #00d7ff\">None</span>, <span style=\"color: #00af00; text-decoration-color: #00af00\">10</span>)             │           <span style=\"color: #00af00; text-decoration-color: #00af00\">210</span> │\n",
       "├─────────────────────────────────┼────────────────────────┼───────────────┤\n",
       "│ dense_2 (<span style=\"color: #0087ff; text-decoration-color: #0087ff\">Dense</span>)                 │ (<span style=\"color: #00d7ff; text-decoration-color: #00d7ff\">None</span>, <span style=\"color: #00af00; text-decoration-color: #00af00\">2</span>)              │            <span style=\"color: #00af00; text-decoration-color: #00af00\">22</span> │\n",
       "└─────────────────────────────────┴────────────────────────┴───────────────┘\n",
       "</pre>\n"
      ],
      "text/plain": [
       "┏━━━━━━━━━━━━━━━━━━━━━━━━━━━━━━━━━┳━━━━━━━━━━━━━━━━━━━━━━━━┳━━━━━━━━━━━━━━━┓\n",
       "┃\u001b[1m \u001b[0m\u001b[1mLayer (type)                   \u001b[0m\u001b[1m \u001b[0m┃\u001b[1m \u001b[0m\u001b[1mOutput Shape          \u001b[0m\u001b[1m \u001b[0m┃\u001b[1m \u001b[0m\u001b[1m      Param #\u001b[0m\u001b[1m \u001b[0m┃\n",
       "┡━━━━━━━━━━━━━━━━━━━━━━━━━━━━━━━━━╇━━━━━━━━━━━━━━━━━━━━━━━━╇━━━━━━━━━━━━━━━┩\n",
       "│ dropout (\u001b[38;5;33mDropout\u001b[0m)               │ (\u001b[38;5;45mNone\u001b[0m, \u001b[38;5;34m42\u001b[0m)             │             \u001b[38;5;34m0\u001b[0m │\n",
       "├─────────────────────────────────┼────────────────────────┼───────────────┤\n",
       "│ dense (\u001b[38;5;33mDense\u001b[0m)                   │ (\u001b[38;5;45mNone\u001b[0m, \u001b[38;5;34m20\u001b[0m)             │           \u001b[38;5;34m860\u001b[0m │\n",
       "├─────────────────────────────────┼────────────────────────┼───────────────┤\n",
       "│ dropout_1 (\u001b[38;5;33mDropout\u001b[0m)             │ (\u001b[38;5;45mNone\u001b[0m, \u001b[38;5;34m20\u001b[0m)             │             \u001b[38;5;34m0\u001b[0m │\n",
       "├─────────────────────────────────┼────────────────────────┼───────────────┤\n",
       "│ dense_1 (\u001b[38;5;33mDense\u001b[0m)                 │ (\u001b[38;5;45mNone\u001b[0m, \u001b[38;5;34m10\u001b[0m)             │           \u001b[38;5;34m210\u001b[0m │\n",
       "├─────────────────────────────────┼────────────────────────┼───────────────┤\n",
       "│ dense_2 (\u001b[38;5;33mDense\u001b[0m)                 │ (\u001b[38;5;45mNone\u001b[0m, \u001b[38;5;34m2\u001b[0m)              │            \u001b[38;5;34m22\u001b[0m │\n",
       "└─────────────────────────────────┴────────────────────────┴───────────────┘\n"
      ]
     },
     "metadata": {},
     "output_type": "display_data"
    },
    {
     "data": {
      "text/html": [
       "<pre style=\"white-space:pre;overflow-x:auto;line-height:normal;font-family:Menlo,'DejaVu Sans Mono',consolas,'Courier New',monospace\"><span style=\"font-weight: bold\"> Total params: </span><span style=\"color: #00af00; text-decoration-color: #00af00\">1,092</span> (4.27 KB)\n",
       "</pre>\n"
      ],
      "text/plain": [
       "\u001b[1m Total params: \u001b[0m\u001b[38;5;34m1,092\u001b[0m (4.27 KB)\n"
      ]
     },
     "metadata": {},
     "output_type": "display_data"
    },
    {
     "data": {
      "text/html": [
       "<pre style=\"white-space:pre;overflow-x:auto;line-height:normal;font-family:Menlo,'DejaVu Sans Mono',consolas,'Courier New',monospace\"><span style=\"font-weight: bold\"> Trainable params: </span><span style=\"color: #00af00; text-decoration-color: #00af00\">1,092</span> (4.27 KB)\n",
       "</pre>\n"
      ],
      "text/plain": [
       "\u001b[1m Trainable params: \u001b[0m\u001b[38;5;34m1,092\u001b[0m (4.27 KB)\n"
      ]
     },
     "metadata": {},
     "output_type": "display_data"
    },
    {
     "data": {
      "text/html": [
       "<pre style=\"white-space:pre;overflow-x:auto;line-height:normal;font-family:Menlo,'DejaVu Sans Mono',consolas,'Courier New',monospace\"><span style=\"font-weight: bold\"> Non-trainable params: </span><span style=\"color: #00af00; text-decoration-color: #00af00\">0</span> (0.00 B)\n",
       "</pre>\n"
      ],
      "text/plain": [
       "\u001b[1m Non-trainable params: \u001b[0m\u001b[38;5;34m0\u001b[0m (0.00 B)\n"
      ]
     },
     "metadata": {},
     "output_type": "display_data"
    }
   ],
   "source": [
    "model.summary()"
   ]
  },
  {
   "cell_type": "code",
   "execution_count": 7,
   "metadata": {},
   "outputs": [],
   "source": [
    "es_callback = tf.keras.callbacks.EarlyStopping(patience=20, verbose = 1)\n"
   ]
  },
  {
   "cell_type": "code",
   "execution_count": 8,
   "metadata": {},
   "outputs": [],
   "source": [
    "model.compile(optimizer = \"adam\",\n",
    "              loss = \"sparse_categorical_crossentropy\",\n",
    "              metrics = ['accuracy'])"
   ]
  },
  {
   "cell_type": "code",
   "execution_count": 9,
   "metadata": {},
   "outputs": [
    {
     "name": "stdout",
     "output_type": "stream",
     "text": [
      "Epoch 1/1000\n"
     ]
    }
   ],
   "source": [
    "model.fit(X_train, y_train, epochs=1000, batch_size=128, validation_data=(X_test, y_test), callbacks = [es_callback])"
   ]
  }
 ],
 "metadata": {
  "kernelspec": {
   "display_name": "Python 3",
   "language": "python",
   "name": "python3"
  },
  "language_info": {
   "codemirror_mode": {
    "name": "ipython",
    "version": 3
   },
   "file_extension": ".py",
   "mimetype": "text/x-python",
   "name": "python",
   "nbconvert_exporter": "python",
   "pygments_lexer": "ipython3",
   "version": "3.12.2"
  }
 },
 "nbformat": 4,
 "nbformat_minor": 2
}
